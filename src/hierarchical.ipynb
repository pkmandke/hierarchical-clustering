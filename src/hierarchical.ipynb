{
 "cells": [
  {
   "cell_type": "code",
   "execution_count": 1,
   "metadata": {},
   "outputs": [
    {
     "name": "stdout",
     "output_type": "stream",
     "text": [
      "Collecting scikit-learn==0.21.3\n",
      "  Using cached https://files.pythonhosted.org/packages/a0/c5/d2238762d780dde84a20b8c761f563fe882b88c5a5fb03c056547c442a19/scikit_learn-0.21.3-cp36-cp36m-manylinux1_x86_64.whl\n",
      "Collecting numpy\n",
      "  Using cached https://files.pythonhosted.org/packages/0e/46/ae6773894f7eacf53308086287897ec568eac9768918d913d5b9d366c5db/numpy-1.17.3-cp36-cp36m-manylinux1_x86_64.whl\n",
      "Collecting pandas\n",
      "\u001b[?25l  Downloading https://files.pythonhosted.org/packages/86/12/08b092f6fc9e4c2552e37add0861d0e0e0d743f78f1318973caad970b3fc/pandas-0.25.2-cp36-cp36m-manylinux1_x86_64.whl (10.4MB)\n",
      "\u001b[K     |████████████████████████████████| 10.4MB 3.1MB/s eta 0:00:01\n",
      "\u001b[?25hCollecting matplotlib\n",
      "  Using cached https://files.pythonhosted.org/packages/57/4f/dd381ecf6c6ab9bcdaa8ea912e866dedc6e696756156d8ecc087e20817e2/matplotlib-3.1.1-cp36-cp36m-manylinux1_x86_64.whl\n",
      "Collecting joblib\n",
      "  Using cached https://files.pythonhosted.org/packages/8f/42/155696f85f344c066e17af287359c9786b436b1bf86029bb3411283274f3/joblib-0.14.0-py2.py3-none-any.whl\n",
      "Collecting scipy>=0.17.0\n",
      "  Using cached https://files.pythonhosted.org/packages/29/50/a552a5aff252ae915f522e44642bb49a7b7b31677f9580cfd11bcc869976/scipy-1.3.1-cp36-cp36m-manylinux1_x86_64.whl\n",
      "Collecting pytz>=2017.2\n",
      "\u001b[?25l  Downloading https://files.pythonhosted.org/packages/e7/f9/f0b53f88060247251bf481fa6ea62cd0d25bf1b11a87888e53ce5b7c8ad2/pytz-2019.3-py2.py3-none-any.whl (509kB)\n",
      "\u001b[K     |████████████████████████████████| 512kB 766kB/s eta 0:00:01\n",
      "\u001b[?25hRequirement already satisfied: python-dateutil>=2.6.1 in /home/pkmandke/venv/hierarch_clus/lib/python3.6/site-packages (from pandas) (2.8.0)\n",
      "Collecting kiwisolver>=1.0.1\n",
      "  Using cached https://files.pythonhosted.org/packages/f8/a1/5742b56282449b1c0968197f63eae486eca2c35dcd334bab75ad524e0de1/kiwisolver-1.1.0-cp36-cp36m-manylinux1_x86_64.whl\n",
      "Collecting cycler>=0.10\n",
      "  Using cached https://files.pythonhosted.org/packages/f7/d2/e07d3ebb2bd7af696440ce7e754c59dd546ffe1bbe732c8ab68b9c834e61/cycler-0.10.0-py2.py3-none-any.whl\n",
      "Collecting pyparsing!=2.0.4,!=2.1.2,!=2.1.6,>=2.0.1\n",
      "  Using cached https://files.pythonhosted.org/packages/11/fa/0160cd525c62d7abd076a070ff02b2b94de589f1a9789774f17d7c54058e/pyparsing-2.4.2-py2.py3-none-any.whl\n",
      "Requirement already satisfied: six>=1.5 in /home/pkmandke/venv/hierarch_clus/lib/python3.6/site-packages (from python-dateutil>=2.6.1->pandas) (1.12.0)\n",
      "Requirement already satisfied: setuptools in /home/pkmandke/venv/hierarch_clus/lib/python3.6/site-packages (from kiwisolver>=1.0.1->matplotlib) (41.6.0)\n",
      "Installing collected packages: numpy, joblib, scipy, scikit-learn, pytz, pandas, kiwisolver, cycler, pyparsing, matplotlib\n",
      "Successfully installed cycler-0.10.0 joblib-0.14.0 kiwisolver-1.1.0 matplotlib-3.1.1 numpy-1.17.3 pandas-0.25.2 pyparsing-2.4.2 pytz-2019.3 scikit-learn-0.21.3 scipy-1.3.1\n"
     ]
    }
   ],
   "source": [
    "!pip3 install scikit-learn==0.21.3 numpy pandas matplotlib joblib"
   ]
  },
  {
   "cell_type": "code",
   "execution_count": 2,
   "metadata": {},
   "outputs": [
    {
     "name": "stdout",
     "output_type": "stream",
     "text": [
      "Processing /home/pkmandke/.cache/pip/wheels/96/86/f6/68ab24c23f207c0077381a5e3904b2815136b879538a24b483/nltk-3.4.5-cp36-none-any.whl\n",
      "Requirement already satisfied: six in /home/pkmandke/venv/hierarch_clus/lib/python3.6/site-packages (from nltk) (1.12.0)\n",
      "Installing collected packages: nltk\n",
      "Successfully installed nltk-3.4.5\n"
     ]
    }
   ],
   "source": [
    "!pip3 install nltk "
   ]
  },
  {
   "cell_type": "code",
   "execution_count": 1,
   "metadata": {},
   "outputs": [],
   "source": [
    "import joblib\n",
    "tfidf_obj = joblib.load('../obj/TFIDF_2.sav')"
   ]
  },
  {
   "cell_type": "code",
   "execution_count": 2,
   "metadata": {},
   "outputs": [
    {
     "data": {
      "text/plain": [
       "(4553, 5417298)"
      ]
     },
     "execution_count": 2,
     "metadata": {},
     "output_type": "execute_result"
    }
   ],
   "source": [
    "tfidf_obj.tfidf_matrix.shape"
   ]
  },
  {
   "cell_type": "code",
   "execution_count": 6,
   "metadata": {},
   "outputs": [
    {
     "data": {
      "text/plain": [
       "scipy.sparse.csr.csr_matrix"
      ]
     },
     "execution_count": 6,
     "metadata": {},
     "output_type": "execute_result"
    }
   ],
   "source": [
    "type(subdocs)"
   ]
  },
  {
   "cell_type": "code",
   "execution_count": 9,
   "metadata": {},
   "outputs": [
    {
     "data": {
      "text/plain": [
       "(1, 939740)"
      ]
     },
     "execution_count": 9,
     "metadata": {},
     "output_type": "execute_result"
    }
   ],
   "source": [
    "subdocs[subdocs !=0].shape"
   ]
  },
  {
   "cell_type": "code",
   "execution_count": 3,
   "metadata": {},
   "outputs": [
    {
     "data": {
      "text/plain": [
       "4553"
      ]
     },
     "execution_count": 3,
     "metadata": {},
     "output_type": "execute_result"
    }
   ],
   "source": [
    "len(tfidf_obj.doc_list)"
   ]
  },
  {
   "cell_type": "code",
   "execution_count": 3,
   "metadata": {},
   "outputs": [],
   "source": [
    "from agglo_clus import Agglo_clus as ag"
   ]
  },
  {
   "cell_type": "code",
   "execution_count": 10,
   "metadata": {},
   "outputs": [],
   "source": [
    "ag_obj = ag(tfidf_obj.tfidf_matrix[:200, :].todense(), doc_names = tfidf_obj.doc_list[:200], num_clus = 10)"
   ]
  },
  {
   "cell_type": "code",
   "execution_count": 11,
   "metadata": {},
   "outputs": [
    {
     "name": "stdout",
     "output_type": "stream",
     "text": [
      "Starting clustering...\n",
      "Done training in 0:00:54.169012s\n"
     ]
    }
   ],
   "source": [
    "ag_obj.clusterize()\n",
    "ag_obj.save()"
   ]
  },
  {
   "cell_type": "code",
   "execution_count": 12,
   "metadata": {},
   "outputs": [
    {
     "data": {
      "text/plain": [
       "(200,)"
      ]
     },
     "execution_count": 12,
     "metadata": {},
     "output_type": "execute_result"
    }
   ],
   "source": [
    "clust = joblib.load('../obj/agglo_clus_1.sav')\n",
    "clust.predictions.shape"
   ]
  },
  {
   "cell_type": "code",
   "execution_count": 24,
   "metadata": {},
   "outputs": [
    {
     "name": "stdout",
     "output_type": "stream",
     "text": [
      "(13,)\n",
      "(5,)\n",
      "(107,)\n",
      "(7,)\n",
      "(3,)\n",
      "(7,)\n",
      "(45,)\n",
      "(3,)\n",
      "(7,)\n",
      "(3,)\n"
     ]
    }
   ],
   "source": [
    "for _ in range(10):\n",
    "    print(clust.predictions[clust.predictions == _].shape)"
   ]
  },
  {
   "cell_type": "code",
   "execution_count": 29,
   "metadata": {},
   "outputs": [
    {
     "name": "stdout",
     "output_type": "stream",
     "text": [
      "(1, 1750)\n",
      "(1, 262)\n",
      "(1, 769)\n",
      "(1, 49683)\n",
      "(1, 647)\n",
      "(1, 903)\n",
      "(1, 3020)\n",
      "(1, 582)\n",
      "(1, 1102)\n",
      "(1, 1002)\n",
      "(1, 1704)\n",
      "(1, 2754)\n",
      "(1, 1775)\n",
      "(1, 3382)\n",
      "(1, 3701)\n",
      "(1, 1903)\n",
      "(1, 1641)\n",
      "(1, 4340)\n",
      "(1, 6083)\n",
      "(1, 536)\n",
      "(1, 1034)\n",
      "(1, 1726)\n",
      "(1, 1522)\n",
      "(1, 590)\n",
      "(1, 21573)\n",
      "(1, 1480)\n",
      "(1, 2279)\n",
      "(1, 419)\n",
      "(1, 31)\n",
      "(1, 1011)\n",
      "(1, 6781)\n",
      "(1, 2834)\n",
      "(1, 10377)\n",
      "(1, 1939)\n",
      "(1, 1440)\n",
      "(1, 1060)\n",
      "(1, 2258)\n",
      "(1, 2368)\n",
      "(1, 7941)\n",
      "(1, 4638)\n",
      "(1, 0)\n",
      "(1, 205)\n",
      "(1, 1402)\n",
      "(1, 3396)\n",
      "(1, 644)\n",
      "(1, 5993)\n",
      "(1, 1864)\n",
      "(1, 2097)\n",
      "(1, 1266)\n",
      "(1, 2176)\n",
      "(1, 6754)\n",
      "(1, 1694)\n",
      "(1, 2217)\n",
      "(1, 5143)\n",
      "(1, 1378)\n",
      "(1, 2784)\n",
      "(1, 751)\n",
      "(1, 1846)\n",
      "(1, 14886)\n",
      "(1, 42496)\n",
      "(1, 21087)\n",
      "(1, 44036)\n",
      "(1, 3070)\n",
      "(1, 549)\n",
      "(1, 7256)\n",
      "(1, 2231)\n",
      "(1, 29956)\n",
      "(1, 1289)\n",
      "(1, 23083)\n",
      "(1, 866)\n",
      "(1, 2244)\n",
      "(1, 9006)\n",
      "(1, 1973)\n",
      "(1, 2659)\n",
      "(1, 1285)\n",
      "(1, 1936)\n",
      "(1, 1863)\n",
      "(1, 6580)\n",
      "(1, 71)\n",
      "(1, 19984)\n",
      "(1, 1176)\n",
      "(1, 3228)\n",
      "(1, 1886)\n",
      "(1, 4182)\n",
      "(1, 1422)\n",
      "(1, 2301)\n",
      "(1, 2689)\n",
      "(1, 34)\n",
      "(1, 1244)\n",
      "(1, 7316)\n",
      "(1, 1878)\n",
      "(1, 16436)\n",
      "(1, 14915)\n",
      "(1, 2082)\n",
      "(1, 4155)\n",
      "(1, 1776)\n",
      "(1, 1636)\n",
      "(1, 4598)\n",
      "(1, 4603)\n",
      "(1, 12441)\n"
     ]
    }
   ],
   "source": [
    "for _ in range(100):\n",
    "    print(tfidf_obj.tfidf_matrix[_, :][tfidf_obj.tfidf_matrix[_, :] != 0].shape)"
   ]
  }
 ],
 "metadata": {
  "kernelspec": {
   "display_name": "Python 3",
   "language": "python",
   "name": "python3"
  },
  "language_info": {
   "codemirror_mode": {
    "name": "ipython",
    "version": 3
   },
   "file_extension": ".py",
   "mimetype": "text/x-python",
   "name": "python",
   "nbconvert_exporter": "python",
   "pygments_lexer": "ipython3",
   "version": "3.6.8"
  }
 },
 "nbformat": 4,
 "nbformat_minor": 2
}
