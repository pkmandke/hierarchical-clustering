{
 "cells": [
  {
   "cell_type": "code",
   "execution_count": 1,
   "metadata": {},
   "outputs": [
    {
     "name": "stdout",
     "output_type": "stream",
     "text": [
      "Python 3.7.4\r\n"
     ]
    }
   ],
   "source": [
    "! python3 --version"
   ]
  },
  {
   "cell_type": "code",
   "execution_count": 3,
   "metadata": {},
   "outputs": [
    {
     "name": "stdout",
     "output_type": "stream",
     "text": [
      "Collecting pandas\n",
      "\u001b[?25l  Downloading https://files.pythonhosted.org/packages/63/e0/a1b39cdcb2c391f087a1538bc8a6d62a82d0439693192aef541d7b123769/pandas-0.25.3-cp37-cp37m-manylinux1_x86_64.whl (10.4MB)\n",
      "\u001b[K     |████████████████████████████████| 10.4MB 1.3MB/s eta 0:00:01    |███▎                            | 1.1MB 1.3MB/s eta 0:00:08     |████▊                           | 1.5MB 1.3MB/s eta 0:00:07\n",
      "\u001b[?25hRequirement already satisfied: python-dateutil>=2.6.1 in /usr/local/lib/python3.7/site-packages (from pandas) (2.8.0)\n",
      "Requirement already satisfied: numpy>=1.13.3 in /usr/local/lib/python3.7/site-packages (from pandas) (1.17.4)\n",
      "Collecting pytz>=2017.2 (from pandas)\n",
      "\u001b[?25l  Downloading https://files.pythonhosted.org/packages/e7/f9/f0b53f88060247251bf481fa6ea62cd0d25bf1b11a87888e53ce5b7c8ad2/pytz-2019.3-py2.py3-none-any.whl (509kB)\n",
      "\u001b[K     |████████████████████████████████| 512kB 25.4MB/s eta 0:00:01\n",
      "\u001b[?25hRequirement already satisfied: six>=1.5 in /usr/local/lib/python3.7/site-packages (from python-dateutil>=2.6.1->pandas) (1.12.0)\n",
      "Installing collected packages: pytz, pandas\n",
      "Successfully installed pandas-0.25.3 pytz-2019.3\n",
      "\u001b[33mWARNING: You are using pip version 19.2.3, however version 19.3.1 is available.\n",
      "You should consider upgrading via the 'pip install --upgrade pip' command.\u001b[0m\n"
     ]
    }
   ],
   "source": [
    "! pip3 install pandas"
   ]
  },
  {
   "cell_type": "code",
   "execution_count": 4,
   "metadata": {},
   "outputs": [],
   "source": [
    "import pandas as pd"
   ]
  },
  {
   "cell_type": "code",
   "execution_count": 2,
   "metadata": {},
   "outputs": [
    {
     "name": "stdout",
     "output_type": "stream",
     "text": [
      "ls: cannot access '../thesis/': No such file or directory\r\n"
     ]
    }
   ],
   "source": [
    "! ls ../thesis/"
   ]
  },
  {
   "cell_type": "code",
   "execution_count": 14,
   "metadata": {},
   "outputs": [],
   "source": [
    "metadata_path = \"/mnt/ceph/cme/30Ketds/30Kmetadata.json\"\n",
    "#f = open(metadata_path)\n",
    "#f.read()\n",
    "md_df = pd.read_json(metadata_path, orient=str, lines=True)\n",
    "abstracts = md_df[['identifier-uri', 'description-abstract']]\n",
    "#abstracts.iloc[0]"
   ]
  },
  {
   "cell_type": "code",
   "execution_count": 17,
   "metadata": {},
   "outputs": [
    {
     "data": {
      "text/html": [
       "<div>\n",
       "<style scoped>\n",
       "    .dataframe tbody tr th:only-of-type {\n",
       "        vertical-align: middle;\n",
       "    }\n",
       "\n",
       "    .dataframe tbody tr th {\n",
       "        vertical-align: top;\n",
       "    }\n",
       "\n",
       "    .dataframe thead th {\n",
       "        text-align: right;\n",
       "    }\n",
       "</style>\n",
       "<table border=\"1\" class=\"dataframe\">\n",
       "  <thead>\n",
       "    <tr style=\"text-align: right;\">\n",
       "      <th></th>\n",
       "      <th>identifier-uri</th>\n",
       "      <th>description-abstract</th>\n",
       "    </tr>\n",
       "  </thead>\n",
       "  <tbody>\n",
       "    <tr>\n",
       "      <th>0</th>\n",
       "      <td>http://hdl.handle.net/10919/9558</td>\n",
       "      <td>The Federal Communications Commission (FCC) ha...</td>\n",
       "    </tr>\n",
       "    <tr>\n",
       "      <th>1</th>\n",
       "      <td>http://hdl.handle.net/10919/9559</td>\n",
       "      <td>For humans, walking is the principle means of ...</td>\n",
       "    </tr>\n",
       "    <tr>\n",
       "      <th>2</th>\n",
       "      <td>http://hdl.handle.net/10919/9560</td>\n",
       "      <td>This thesis is an attempt to reconcile the for...</td>\n",
       "    </tr>\n",
       "    <tr>\n",
       "      <th>3</th>\n",
       "      <td>http://hdl.handle.net/10919/9561</td>\n",
       "      <td>The light is the giver of presence. Nature is ...</td>\n",
       "    </tr>\n",
       "    <tr>\n",
       "      <th>4</th>\n",
       "      <td>http://hdl.handle.net/10919/9562</td>\n",
       "      <td>Since Senegal's independence in 1960, groundnu...</td>\n",
       "    </tr>\n",
       "    <tr>\n",
       "      <th>...</th>\n",
       "      <td>...</td>\n",
       "      <td>...</td>\n",
       "    </tr>\n",
       "    <tr>\n",
       "      <th>30956</th>\n",
       "      <td>http://hdl.handle.net/10919/83363</td>\n",
       "      <td>As the number of public school students identi...</td>\n",
       "    </tr>\n",
       "    <tr>\n",
       "      <th>30957</th>\n",
       "      <td>http://hdl.handle.net/10919/83364</td>\n",
       "      <td>This dissertation examines the emerging practi...</td>\n",
       "    </tr>\n",
       "    <tr>\n",
       "      <th>30958</th>\n",
       "      <td>http://hdl.handle.net/10919/83372</td>\n",
       "      <td>Switch mode power supplies are widely used in ...</td>\n",
       "    </tr>\n",
       "    <tr>\n",
       "      <th>30959</th>\n",
       "      <td>http://hdl.handle.net/10919/83390</td>\n",
       "      <td>As a result of recent federal legislative chan...</td>\n",
       "    </tr>\n",
       "    <tr>\n",
       "      <th>30960</th>\n",
       "      <td>http://hdl.handle.net/10919/83391</td>\n",
       "      <td>Digital signal processing systems demand highe...</td>\n",
       "    </tr>\n",
       "  </tbody>\n",
       "</table>\n",
       "<p>30961 rows × 2 columns</p>\n",
       "</div>"
      ],
      "text/plain": [
       "                           identifier-uri  \\\n",
       "0       http://hdl.handle.net/10919/9558    \n",
       "1       http://hdl.handle.net/10919/9559    \n",
       "2       http://hdl.handle.net/10919/9560    \n",
       "3       http://hdl.handle.net/10919/9561    \n",
       "4       http://hdl.handle.net/10919/9562    \n",
       "...                                   ...   \n",
       "30956  http://hdl.handle.net/10919/83363    \n",
       "30957  http://hdl.handle.net/10919/83364    \n",
       "30958  http://hdl.handle.net/10919/83372    \n",
       "30959  http://hdl.handle.net/10919/83390    \n",
       "30960  http://hdl.handle.net/10919/83391    \n",
       "\n",
       "                                    description-abstract  \n",
       "0      The Federal Communications Commission (FCC) ha...  \n",
       "1      For humans, walking is the principle means of ...  \n",
       "2      This thesis is an attempt to reconcile the for...  \n",
       "3      The light is the giver of presence. Nature is ...  \n",
       "4      Since Senegal's independence in 1960, groundnu...  \n",
       "...                                                  ...  \n",
       "30956  As the number of public school students identi...  \n",
       "30957  This dissertation examines the emerging practi...  \n",
       "30958  Switch mode power supplies are widely used in ...  \n",
       "30959  As a result of recent federal legislative chan...  \n",
       "30960  Digital signal processing systems demand highe...  \n",
       "\n",
       "[30961 rows x 2 columns]"
      ]
     },
     "execution_count": 17,
     "metadata": {},
     "output_type": "execute_result"
    }
   ],
   "source": [
    "abstracts"
   ]
  },
  {
   "cell_type": "code",
   "execution_count": null,
   "metadata": {},
   "outputs": [],
   "source": []
  },
  {
   "cell_type": "code",
   "execution_count": null,
   "metadata": {},
   "outputs": [],
   "source": []
  },
  {
   "cell_type": "code",
   "execution_count": 3,
   "metadata": {},
   "outputs": [
    {
     "name": "stderr",
     "output_type": "stream",
     "text": [
      "[nltk_data] Downloading package punkt to /home/pkmandke/nltk_data...\n",
      "[nltk_data]   Package punkt is already up-to-date!\n",
      "[nltk_data] Downloading package stopwords to\n",
      "[nltk_data]     /home/pkmandke/nltk_data...\n",
      "[nltk_data]   Package stopwords is already up-to-date!\n"
     ]
    }
   ],
   "source": [
    "import gensim\n",
    "import nltk\n",
    "from nltk.corpus import stopwords\n",
    "from nltk.stem.porter import PorterStemmer\n",
    "nltk.download('punkt')\n",
    "nltk.download('stopwords')\n",
    "\n",
    "import os\n",
    "import string"
   ]
  },
  {
   "cell_type": "code",
   "execution_count": 42,
   "metadata": {},
   "outputs": [
    {
     "data": {
      "text/plain": [
       "2"
      ]
     },
     "execution_count": 42,
     "metadata": {},
     "output_type": "execute_result"
    }
   ],
   "source": [
    "N = 10000\n",
    "#ETD_PATH = '/mnt/ceph/cme/thesis/'\n",
    "ETD_PATH = '../../thesis/'\n",
    "list_of_docs = os.listdir(ETD_PATH)[:2]\n",
    "len(list_of_docs)"
   ]
  },
  {
   "cell_type": "code",
   "execution_count": 43,
   "metadata": {},
   "outputs": [],
   "source": [
    "def data_generator():\n",
    "    \n",
    "    for idx, folder in enumerate(list_of_docs):\n",
    "        for _ in os.listdir(ETD_PATH + folder):\n",
    "            file_name = ''\n",
    "            if _.endswith('.pdf.txt') or _.endswith('.PDF.txt'):\n",
    "                file_name = _\n",
    "                break\n",
    "        if file_name:\n",
    "            with open(ETD_PATH + folder + '/' + file_name) as f:\n",
    "                document = f.read()\n",
    "                \n",
    "                tokens = nltk.word_tokenize(document.lower().translate(str.maketrans('', '', string.punctuation)))\n",
    "                stems = []\n",
    "                \n",
    "                for item in tokens:\n",
    "                    if item in stopwords.words():\n",
    "                        continue\n",
    "                    stems.append(PorterStemmer().stem(item))\n",
    "\n",
    "                #tokens = gensim.utils.simple_preprocess(document)\n",
    "                \n",
    "                yield gensim.models.doc2vec.TaggedDocument(stems, [folder])"
   ]
  },
  {
   "cell_type": "code",
   "execution_count": 44,
   "metadata": {},
   "outputs": [
    {
     "data": {
      "text/plain": [
       "(2, gensim.models.doc2vec.TaggedDocument)"
      ]
     },
     "execution_count": 44,
     "metadata": {},
     "output_type": "execute_result"
    }
   ],
   "source": [
    "train_corpus = list(data_generator())\n",
    "len(train_corpus), type(train_corpus[0])"
   ]
  },
  {
   "cell_type": "code",
   "execution_count": 49,
   "metadata": {},
   "outputs": [
    {
     "data": {
      "text/plain": [
       "['10001']"
      ]
     },
     "execution_count": 49,
     "metadata": {},
     "output_type": "execute_result"
    }
   ],
   "source": [
    "train_corpus[1][1]"
   ]
  },
  {
   "cell_type": "code",
   "execution_count": 46,
   "metadata": {},
   "outputs": [],
   "source": [
    "model = gensim.models.doc2vec.Doc2Vec(vector_size=20, min_count=2, epochs=5, workers=5)\n",
    "model.build_vocab(train_corpus)"
   ]
  },
  {
   "cell_type": "code",
   "execution_count": 47,
   "metadata": {},
   "outputs": [],
   "source": [
    "model.train(train_corpus, total_examples=model.corpus_count, epochs=model.epochs)"
   ]
  },
  {
   "cell_type": "code",
   "execution_count": 48,
   "metadata": {},
   "outputs": [
    {
     "data": {
      "text/plain": [
       "array([  2.0238445,  -3.645342 , -10.700458 ,  10.126007 ,  -7.6178694,\n",
       "        -9.052647 ,  -7.9369607,   0.8680063,  -0.5970208,   5.070162 ,\n",
       "       -15.632132 ,   1.2702698,  -1.9495729,  -2.3695042,  -9.203182 ,\n",
       "        -7.465273 ,   6.878441 ,  11.649819 ,  10.651127 ,   4.1084332],\n",
       "      dtype=float32)"
      ]
     },
     "execution_count": 48,
     "metadata": {},
     "output_type": "execute_result"
    }
   ],
   "source": [
    "model.docvecs[1]"
   ]
  },
  {
   "cell_type": "code",
   "execution_count": 59,
   "metadata": {},
   "outputs": [],
   "source": [
    "ranks = []\n",
    "second_ranks = []\n",
    "for doc_id, name in zip(range(2), ['10000', '10001']):\n",
    "    inferred_vector = model.infer_vector(train_corpus[doc_id].words)\n",
    "    sims = model.docvecs.most_similar([inferred_vector], topn=len(model.docvecs))\n",
    "    rank = [docid for docid, sim in sims].index(name)\n",
    "    ranks.append(rank)\n",
    "\n",
    "    second_ranks.append(sims[0])"
   ]
  },
  {
   "cell_type": "code",
   "execution_count": 60,
   "metadata": {},
   "outputs": [
    {
     "data": {
      "text/plain": [
       "[('10000', 0.9977684020996094), ('10001', 0.9994410872459412)]"
      ]
     },
     "execution_count": 60,
     "metadata": {},
     "output_type": "execute_result"
    }
   ],
   "source": [
    "second_ranks"
   ]
  },
  {
   "cell_type": "code",
   "execution_count": 41,
   "metadata": {},
   "outputs": [
    {
     "data": {
      "text/plain": [
       "{'doctag_lookup': 400,\n",
       " 'doctag_syn0': 160,\n",
       " 'vocab': 1074500,\n",
       " 'vectors': 171920,\n",
       " 'syn1neg': 171920,\n",
       " 'total': 1418900}"
      ]
     },
     "execution_count": 41,
     "metadata": {},
     "output_type": "execute_result"
    }
   ],
   "source": [
    "model.estimate_memory()"
   ]
  },
  {
   "cell_type": "code",
   "execution_count": null,
   "metadata": {},
   "outputs": [],
   "source": [
    "model.save('../obj/doc2vec1')"
   ]
  }
 ],
 "metadata": {
  "kernelspec": {
   "display_name": "Python 3",
   "language": "python",
   "name": "python3"
  },
  "language_info": {
   "codemirror_mode": {
    "name": "ipython",
    "version": 3
   },
   "file_extension": ".py",
   "mimetype": "text/x-python",
   "name": "python",
   "nbconvert_exporter": "python",
   "pygments_lexer": "ipython3",
   "version": "3.7.4"
  }
 },
 "nbformat": 4,
 "nbformat_minor": 2
}
