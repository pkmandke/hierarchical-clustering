{
 "cells": [
  {
   "cell_type": "code",
   "execution_count": null,
   "metadata": {},
   "outputs": [],
   "source": [
    "! python3 --version"
   ]
  },
  {
   "cell_type": "code",
   "execution_count": null,
   "metadata": {},
   "outputs": [],
   "source": [
    "! ls ../thesis/"
   ]
  },
  {
   "cell_type": "code",
   "execution_count": 1,
   "metadata": {},
   "outputs": [
    {
     "name": "stderr",
     "output_type": "stream",
     "text": [
      "[nltk_data] Downloading package punkt to /root/nltk_data...\n",
      "[nltk_data]   Package punkt is already up-to-date!\n",
      "[nltk_data] Downloading package stopwords to /root/nltk_data...\n",
      "[nltk_data]   Package stopwords is already up-to-date!\n"
     ]
    }
   ],
   "source": [
    "import gensim\n",
    "import nltk\n",
    "from nltk.corpus import stopwords\n",
    "from nltk.stem.porter import PorterStemmer\n",
    "nltk.download('punkt')\n",
    "nltk.download('stopwords')\n",
    "\n",
    "import os\n",
    "import string"
   ]
  },
  {
   "cell_type": "code",
   "execution_count": 2,
   "metadata": {},
   "outputs": [
    {
     "data": {
      "text/plain": [
       "100"
      ]
     },
     "execution_count": 2,
     "metadata": {},
     "output_type": "execute_result"
    }
   ],
   "source": [
    "N = 10000\n",
    "#ETD_PATH = '/mnt/ceph/cme/thesis/'\n",
    "ETD_PATH = '../thesis/thesis/'\n",
    "list_of_docs = os.listdir(ETD_PATH)[:100]\n",
    "len(list_of_docs)"
   ]
  },
  {
   "cell_type": "code",
   "execution_count": 3,
   "metadata": {},
   "outputs": [],
   "source": [
    "def data_generator():\n",
    "    \n",
    "    for idx, folder in enumerate(list_of_docs):\n",
    "        for _ in os.listdir(ETD_PATH + folder):\n",
    "            file_name = ''\n",
    "            if _.endswith('.pdf.txt') or _.endswith('.PDF.txt'):\n",
    "                file_name = _\n",
    "                break\n",
    "        if file_name:\n",
    "            with open(ETD_PATH + folder + '/' + file_name) as f:\n",
    "                document = f.read()\n",
    "                \n",
    "                tokens = nltk.word_tokenize(document.lower().translate(str.maketrans('', '', string.punctuation)))\n",
    "                stems = []\n",
    "                \n",
    "                for item in tokens:\n",
    "                    if item in stopwords.words():\n",
    "                        continue\n",
    "                    stems.append(PorterStemmer().stem(item))\n",
    "\n",
    "                #tokens = gensim.utils.simple_preprocess(document)\n",
    "                \n",
    "                yield gensim.models.doc2vec.TaggedDocument(stems, [int(folder) + 1])"
   ]
  },
  {
   "cell_type": "code",
   "execution_count": null,
   "metadata": {},
   "outputs": [
    {
     "name": "stderr",
     "output_type": "stream",
     "text": [
      "Exception ignored in: <function SeekableUnicodeStreamReader.__del__ at 0x7f68951b8830>\n",
      "Traceback (most recent call last):\n",
      "  File \"/usr/local/lib/python3.7/site-packages/nltk/data.py\", line 1281, in __del__\n",
      "    self.close()\n",
      "  File \"/usr/local/lib/python3.7/site-packages/nltk/data.py\", line 1310, in close\n",
      "    self.stream.close()\n",
      "KeyboardInterrupt\n"
     ]
    }
   ],
   "source": [
    "train_corpus = list(data_generator())\n",
    "len(train_corpus), type(train_corpus[0])"
   ]
  },
  {
   "cell_type": "code",
   "execution_count": null,
   "metadata": {},
   "outputs": [],
   "source": [
    "model = gensim.models.doc2vec.Doc2Vec(vector_size=128, min_count=2, epochs=20)\n",
    "model.build_vocab(train_corpus)"
   ]
  },
  {
   "cell_type": "code",
   "execution_count": null,
   "metadata": {},
   "outputs": [],
   "source": [
    "model.train(train_corpus, total_examples=model.corpus_count, epochs=model.epochs)"
   ]
  },
  {
   "cell_type": "code",
   "execution_count": null,
   "metadata": {},
   "outputs": [],
   "source": [
    "model.save('../obj/doc2vec1')"
   ]
  }
 ],
 "metadata": {
  "kernelspec": {
   "display_name": "Python 3",
   "language": "python",
   "name": "python3"
  },
  "language_info": {
   "codemirror_mode": {
    "name": "ipython",
    "version": 3
   },
   "file_extension": ".py",
   "mimetype": "text/x-python",
   "name": "python",
   "nbconvert_exporter": "python",
   "pygments_lexer": "ipython3",
   "version": "3.7.4"
  }
 },
 "nbformat": 4,
 "nbformat_minor": 2
}
