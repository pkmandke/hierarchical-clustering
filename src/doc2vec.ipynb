{
 "cells": [
  {
   "cell_type": "code",
   "execution_count": null,
   "metadata": {},
   "outputs": [],
   "source": [
    "! python3 --version"
   ]
  },
  {
   "cell_type": "code",
   "execution_count": null,
   "metadata": {},
   "outputs": [],
   "source": [
    "import gensim\n",
    "import nltk\n",
    "from nltk.corpus import stopwords\n",
    "nltk.download('punkt')\n",
    "nltk.download('stopwords')\n",
    "\n",
    "import os\n",
    "import string"
   ]
  },
  {
   "cell_type": "code",
   "execution_count": null,
   "metadata": {},
   "outputs": [],
   "source": [
    "N = 10000\n",
    "ETD_PATH = '/mnt/ceph/cme/thesis/'\n",
    "\n",
    "list_of_docs = os.listdir(ETD_PATH)[:N]\n",
    "len(list_of_docs)"
   ]
  },
  {
   "cell_type": "code",
   "execution_count": null,
   "metadata": {},
   "outputs": [],
   "source": [
    "def data_generator():\n",
    "    \n",
    "    for idx, folder in enumerate(list_of_docs):\n",
    "        for _ in os.listdir(ETD_PATH + folder):\n",
    "            file_name = ''\n",
    "            if _.endswith('.pdf.txt') or _.endswith('.PDF.txt'):\n",
    "                file_name = _\n",
    "                break\n",
    "        if file_name:\n",
    "            with open(ETD_PATH + folder + '/' + file_name) as f:\n",
    "                document = f.read()\n",
    "                \n",
    "                tokens = nltk.word_tokenize(document.lower().translate(str.maketrans('', '', string.punctuation)))\n",
    "                stems = []\n",
    "                \n",
    "                for item in tokens:\n",
    "                    if item in stopwords.words():\n",
    "                        continue\n",
    "                    stems.append(PorterStemmer().stem(item))\n",
    "\n",
    "                #tokens = gensim.utils.simple_preprocess(document)\n",
    "                \n",
    "                yield gensim.models.doc2vec.TaggedDocument(stems, [int(folder) + 1])"
   ]
  },
  {
   "cell_type": "code",
   "execution_count": null,
   "metadata": {},
   "outputs": [],
   "source": [
    "train_corpus = list(data_generator())"
   ]
  },
  {
   "cell_type": "code",
   "execution_count": null,
   "metadata": {},
   "outputs": [],
   "source": [
    "model = gensim.models.doc2vec.Doc2Vec(vector_size=128, min_count=2, epochs=20)\n",
    "model.build_vocab(train_corpus)"
   ]
  },
  {
   "cell_type": "code",
   "execution_count": null,
   "metadata": {},
   "outputs": [],
   "source": [
    "model.train(train_corpus, total_examples=model.corpus_count, epochs=model.epochs)"
   ]
  },
  {
   "cell_type": "code",
   "execution_count": null,
   "metadata": {},
   "outputs": [],
   "source": [
    "model.save('../obj/doc2vec1')"
   ]
  }
 ],
 "metadata": {
  "kernelspec": {
   "display_name": "Python 3",
   "language": "python",
   "name": "python3"
  },
  "language_info": {
   "codemirror_mode": {
    "name": "ipython",
    "version": 3
   },
   "file_extension": ".py",
   "mimetype": "text/x-python",
   "name": "python",
   "nbconvert_exporter": "python",
   "pygments_lexer": "ipython3",
   "version": "3.6.8"
  }
 },
 "nbformat": 4,
 "nbformat_minor": 2
}
